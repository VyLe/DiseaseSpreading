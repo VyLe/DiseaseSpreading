{
 "cells": [
  {
   "cell_type": "code",
   "execution_count": 1,
   "metadata": {
    "scrolled": true
   },
   "outputs": [
    {
     "name": "stderr",
     "output_type": "stream",
     "text": [
      "/opt/conda/lib/python3.6/site-packages/ipykernel_launcher.py:28: SettingWithCopyWarning: \n",
      "A value is trying to be set on a copy of a slice from a DataFrame\n",
      "\n",
      "See the caveats in the documentation: http://pandas.pydata.org/pandas-docs/stable/indexing.html#indexing-view-versus-copy\n",
      "/opt/conda/lib/python3.6/site-packages/ipykernel_launcher.py:40: SettingWithCopyWarning: \n",
      "A value is trying to be set on a copy of a slice from a DataFrame\n",
      "\n",
      "See the caveats in the documentation: http://pandas.pydata.org/pandas-docs/stable/indexing.html#indexing-view-versus-copy\n"
     ]
    },
    {
     "name": "stdout",
     "output_type": "stream",
     "text": [
      "Anchorage infection time:  1229290800.0\n"
     ]
    }
   ],
   "source": [
    "#!/usr/bin/env python3\n",
    "# -*- coding: utf-8 -*-\n",
    "\"\"\"\n",
    "Created on Thu Nov 22 11:13:14 2018\n",
    "\n",
    "@author: lequang\n",
    "\"\"\"\n",
    "from __future__ import division\n",
    "\n",
    "import numpy as np\n",
    "import pandas as pd\n",
    "import networkx as nx\n",
    "import matplotlib.pyplot as plt\n",
    "\n",
    "\n",
    "\n",
    "def infection_model(network, p, flights, start_node):\n",
    "\n",
    "    #Extract data of first flight and last flight \n",
    "    \n",
    "\n",
    "    #Create dataframe storing airport and infection time \n",
    "    airports = sorted(network.nodes())\n",
    "    inf_time = np.full((len(airports),), np.inf)\n",
    "    infection = pd.DataFrame({\"Airport\":airports, \"InfectionTime\": inf_time}) \n",
    "    \n",
    "    #Set the infection time of first infected node:\n",
    "    infection.InfectionTime[start_node] = flights.StartTime.min()\n",
    "    #Loop over flights and start infection \n",
    "    for i in range(len(flights)):\n",
    "        source = flights.Source[i]\n",
    "        source_inf_time = infection.InfectionTime[source]\n",
    "        if (source_inf_time < flights.StartTime[i]):\n",
    "            random = np.random.rand()\n",
    "            if random <= p:\n",
    "                target = flights.Destination[i]\n",
    "                target_cur_inf_time = infection.InfectionTime[target]\n",
    "                target_new_inf_time = flights.EndTime[i]\n",
    "                if target_new_inf_time < target_cur_inf_time:\n",
    "                    infection.InfectionTime[target] = target_new_inf_time\n",
    "    return infection\n",
    "\n",
    "\n",
    "flights = pd.read_csv(\"./events_US_air_traffic_GMT.txt\", sep = \" \")\n",
    "\n",
    "#Read in network data\n",
    "networkpath = \"./aggregated_US_air_traffic_network_undir.edg\"\n",
    "network = nx.read_weighted_edgelist(networkpath, nodetype = int )\n",
    "\n",
    "#Run model with p = 1\n",
    "start_node_0 = flights.Source[0] #Initiate the first infected node\n",
    "flights = flights.sort_values(\"StartTime\")\n",
    "start_time = flights.StartTime.min() #First infected time\n",
    "end_time = flights.EndTime.max()\n",
    "\n",
    "infection = infection_model(network, 1 ,flights, start_node_0)\n",
    "infection_times = infection.InfectionTime\n",
    "\n",
    "print(\"Anchorage infection time: \",infection.InfectionTime[41])\n",
    "\n"
   ]
  },
  {
   "cell_type": "code",
   "execution_count": null,
   "metadata": {},
   "outputs": [
    {
     "name": "stderr",
     "output_type": "stream",
     "text": [
      "/opt/conda/lib/python3.6/site-packages/ipykernel_launcher.py:28: SettingWithCopyWarning: \n",
      "A value is trying to be set on a copy of a slice from a DataFrame\n",
      "\n",
      "See the caveats in the documentation: http://pandas.pydata.org/pandas-docs/stable/indexing.html#indexing-view-versus-copy\n",
      "/opt/conda/lib/python3.6/site-packages/ipykernel_launcher.py:40: SettingWithCopyWarning: \n",
      "A value is trying to be set on a copy of a slice from a DataFrame\n",
      "\n",
      "See the caveats in the documentation: http://pandas.pydata.org/pandas-docs/stable/indexing.html#indexing-view-versus-copy\n"
     ]
    }
   ],
   "source": [
    "#Task 2: Effect of probability p on spreading speed\n",
    "\n",
    "def averaged_prevalence_visualization(network, flights, start_node, start, end, p, label):\n",
    "    stepsize = 50    \n",
    "    t = np.linspace(start, end, stepsize)  #To increase this stepsize\n",
    "    p_t = np.zeros((stepsize,10), dtype=float)\n",
    "    for k in range(0,10):\n",
    "        infection_p = infection_model(network, p ,flights, start_node)\n",
    "        for j in range (0,stepsize):\n",
    "            count = (infection.InfectionTime < t[j]).sum()\n",
    "            prob = float(count/len(infection))\n",
    "            p_t[j,k] = prob\n",
    "    prevalence = np.average(p_t, axis = 1)\n",
    "    plt.plot(t, prevalence, label = label)\n",
    "\n",
    "fig = plt.figure(figsize=(10,7))\n",
    "for p in (0.01, 0.05, 0.1, 0.5, 1):  \n",
    "    averaged_prevalence_visualization(network, flights, start_node_0, start_time, end_time, p, p)\n",
    "plt.xlabel(\"Time\")\n",
    "plt.ylabel(\"Averaged prevalence\")\n",
    "plt.legend()\n",
    "plt.show()"
   ]
  },
  {
   "cell_type": "code",
   "execution_count": null,
   "metadata": {},
   "outputs": [],
   "source": [
    "#Task 3\n",
    "for node in (0,4,41,100,200):\n",
    "    start_node = flights.Source[node]\n",
    "    averaged_prevalence_visualization(network, flights, start_node, start_time, end_time, 0.1, node)\n",
    "plt.xlabel(\"Time\")\n",
    "plt.ylabel(\"Averaged prevalence for different nodes\")\n",
    "plt.legend()\n",
    "plt.show()"
   ]
  },
  {
   "cell_type": "code",
   "execution_count": null,
   "metadata": {},
   "outputs": [],
   "source": [
    "#Task 4\n"
   ]
  }
 ],
 "metadata": {
  "kernelspec": {
   "display_name": "Python 3",
   "language": "python",
   "name": "python3"
  },
  "language_info": {
   "codemirror_mode": {
    "name": "ipython",
    "version": 3
   },
   "file_extension": ".py",
   "mimetype": "text/x-python",
   "name": "python",
   "nbconvert_exporter": "python",
   "pygments_lexer": "ipython3",
   "version": "3.6.5"
  }
 },
 "nbformat": 4,
 "nbformat_minor": 2
}
